{
 "cells": [
  {
   "cell_type": "code",
   "execution_count": 3,
   "id": "8d708278",
   "metadata": {},
   "outputs": [],
   "source": [
    "import numpy as np\n",
    "import matplotlib.pyplot as plt\n",
    "import tensorflow as tf"
   ]
  },
  {
   "cell_type": "code",
   "execution_count": 23,
   "id": "9fe1e5da",
   "metadata": {},
   "outputs": [
    {
     "name": "stdout",
     "output_type": "stream",
     "text": [
      "(5, 2) (5, 1)\n"
     ]
    }
   ],
   "source": [
    "X = np.array([[200, 9],\n",
    "            [185, 12],\n",
    "            [200, 10],\n",
    "            [190, 11],\n",
    "            [160, 14]])\n",
    "Y = np.array([[1],[1], [1], [1], [0]])\n",
    "print(X.shape, Y.shape)"
   ]
  },
  {
   "cell_type": "code",
   "execution_count": 24,
   "id": "edac8fc8",
   "metadata": {},
   "outputs": [
    {
     "data": {
      "text/plain": [
       "<tf.Tensor: shape=(5, 2), dtype=float32, numpy=\n",
       "array([[ 0.88453794, -1.278724  ],\n",
       "       [-0.13608277,  0.46499068],\n",
       "       [ 0.88453794, -0.69748574],\n",
       "       [ 0.20412414, -0.11624753],\n",
       "       [-1.8371173 ,  1.627467  ]], dtype=float32)>"
      ]
     },
     "execution_count": 24,
     "metadata": {},
     "output_type": "execute_result"
    }
   ],
   "source": [
    "norm = tf.keras.layers.Normalization(axis = -1)\n",
    "norm.adapt(X)\n",
    "Xn = norm(X)\n",
    "Xn"
   ]
  },
  {
   "cell_type": "code",
   "execution_count": 25,
   "id": "3e3e775c",
   "metadata": {},
   "outputs": [],
   "source": [
    "def sigmoid(z) :\n",
    "    return 1 / (1 + np.exp(-z))"
   ]
  },
  {
   "cell_type": "code",
   "execution_count": 26,
   "id": "c1935401",
   "metadata": {},
   "outputs": [],
   "source": [
    "def my_dense(a_in, W, b, g) :\n",
    "    units = W.shape[1]\n",
    "    a_out = np.zeros(units)\n",
    "    for i in range(units) :\n",
    "        w = W[:, i]\n",
    "        z_i = np.dot(a_in, w) + b[i]\n",
    "        a_out[i] = g(z_i)\n",
    "    return a_out"
   ]
  },
  {
   "cell_type": "code",
   "execution_count": 27,
   "id": "f59a4d21",
   "metadata": {},
   "outputs": [],
   "source": [
    "def my_sequential (x, W1, b1, W2, b2) :\n",
    "    a1 = my_dense(x, W1, b1, sigmoid)\n",
    "    a2 = my_dense(a1, W2, b2, sigmoid)\n",
    "    return a2"
   ]
  },
  {
   "cell_type": "code",
   "execution_count": 28,
   "id": "6ef03b29",
   "metadata": {},
   "outputs": [],
   "source": [
    "W1_tmp = np.array( [[-8.93,  0.29, 12.9 ], [-0.1,  -7.32, 10.81]] )\n",
    "b1_tmp = np.array( [-9.82, -9.28,  0.96] )\n",
    "W2_tmp = np.array( [[-31.18], [-27.59], [-32.56]] )\n",
    "b2_tmp = np.array( [15.41] )"
   ]
  },
  {
   "cell_type": "code",
   "execution_count": 29,
   "id": "e996e093",
   "metadata": {},
   "outputs": [],
   "source": [
    "def my_predict(X, W1, b1, W2, b2) :\n",
    "    m = X.shape[0]\n",
    "    p = np.zeros((m,1))\n",
    "    for i in range(m) :\n",
    "        p[i, 0] = my_sequential(X[i], W1, b1, W2, b2)\n",
    "    return p"
   ]
  },
  {
   "cell_type": "code",
   "execution_count": 30,
   "id": "90452763",
   "metadata": {},
   "outputs": [
    {
     "name": "stdout",
     "output_type": "stream",
     "text": [
      "[[3.56327525e-08]\n",
      " [3.56327569e-08]]\n"
     ]
    }
   ],
   "source": [
    "X_tst = np.array([\n",
    "    [200,13.9],  \n",
    "    [200,17]])   \n",
    "X_tstn = norm(X_tst)  \n",
    "predictions = my_predict(X_tstn, W1_tmp, b1_tmp, W2_tmp, b2_tmp)\n",
    "print(predictions)"
   ]
  },
  {
   "cell_type": "code",
   "execution_count": 31,
   "id": "556470c0",
   "metadata": {},
   "outputs": [
    {
     "data": {
      "text/plain": [
       "array([[0],\n",
       "       [0]])"
      ]
     },
     "execution_count": 31,
     "metadata": {},
     "output_type": "execute_result"
    }
   ],
   "source": [
    "yhat = (predictions>=0.5).astype(int)\n",
    "yhat"
   ]
  },
  {
   "cell_type": "code",
   "execution_count": null,
   "id": "85c26c71",
   "metadata": {},
   "outputs": [],
   "source": []
  }
 ],
 "metadata": {
  "kernelspec": {
   "display_name": "Python 3 (ipykernel)",
   "language": "python",
   "name": "python3"
  },
  "language_info": {
   "codemirror_mode": {
    "name": "ipython",
    "version": 3
   },
   "file_extension": ".py",
   "mimetype": "text/x-python",
   "name": "python",
   "nbconvert_exporter": "python",
   "pygments_lexer": "ipython3",
   "version": "3.9.4"
  }
 },
 "nbformat": 4,
 "nbformat_minor": 5
}

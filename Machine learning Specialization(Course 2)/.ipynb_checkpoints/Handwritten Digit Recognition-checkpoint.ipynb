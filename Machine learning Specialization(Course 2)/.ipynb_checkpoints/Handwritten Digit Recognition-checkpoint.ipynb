{
 "cells": [
  {
   "cell_type": "code",
   "execution_count": 55,
   "id": "82521028",
   "metadata": {},
   "outputs": [],
   "source": [
    "import numpy as np\n",
    "from scipy.io import loadmat\n",
    "import tensorflow as tf\n",
    "from tensorflow.keras.models import Sequential\n",
    "from tensorflow.keras.layers import Dense\n",
    "import matplotlib.pyplot as plt\n",
    "from tensorflow.keras.activations import sigmoid"
   ]
  },
  {
   "cell_type": "code",
   "execution_count": 48,
   "id": "18126346",
   "metadata": {},
   "outputs": [],
   "source": [
    "# use tensorflow!\n",
    "model = Sequential(\n",
    "    [\n",
    "        tf.keras.Input(shape = (400,)),\n",
    "        Dense(25, activation = 'sigmoid'),\n",
    "        Dense(15, activation = 'sigmoid'),\n",
    "        Dense(1, activation = 'sigmoid')\n",
    "    ], name = \"my-model\"\n",
    ")"
   ]
  },
  {
   "cell_type": "code",
   "execution_count": 49,
   "id": "3c455670",
   "metadata": {},
   "outputs": [
    {
     "name": "stdout",
     "output_type": "stream",
     "text": [
      "Model: \"my-model\"\n",
      "_________________________________________________________________\n",
      " Layer (type)                Output Shape              Param #   \n",
      "=================================================================\n",
      " dense_6 (Dense)             (None, 25)                10025     \n",
      "                                                                 \n",
      " dense_7 (Dense)             (None, 15)                390       \n",
      "                                                                 \n",
      " dense_8 (Dense)             (None, 1)                 16        \n",
      "                                                                 \n",
      "=================================================================\n",
      "Total params: 10,431\n",
      "Trainable params: 10,431\n",
      "Non-trainable params: 0\n",
      "_________________________________________________________________\n"
     ]
    }
   ],
   "source": [
    "model.summary()"
   ]
  },
  {
   "cell_type": "code",
   "execution_count": 50,
   "id": "da2c9d07",
   "metadata": {},
   "outputs": [],
   "source": [
    "[layer1, layer2, layer3] = model.layers\n",
    "W1,b1 = layer1.get_weights()\n",
    "W2,b2 = layer2.get_weights()\n",
    "W3,b3 = layer3.get_weights()"
   ]
  },
  {
   "cell_type": "code",
   "execution_count": 51,
   "id": "370d1820",
   "metadata": {},
   "outputs": [],
   "source": [
    "# numpy model implementation\n",
    "def my_dense(a_in, W, b, g) :\n",
    "    units = W.shape[1]\n",
    "    a_out = np.zeros(units)\n",
    "    for j in range(units) :\n",
    "        w = W[:, j]\n",
    "        z = np.dot(a_in, w) + b[j]\n",
    "        a_out[j] = g(z)\n",
    "    return a_out"
   ]
  },
  {
   "cell_type": "code",
   "execution_count": 52,
   "id": "88864636",
   "metadata": {},
   "outputs": [],
   "source": [
    "def my_sequential(x, W1, b1, W2, b2, W3, b3) :\n",
    "    a1 = my_dense(x, W1, b1, sigmoid)\n",
    "    a2 = my_dense(a1, W2, b2, sigmoid)\n",
    "    a3 = my_dense(a2, W3, b3, sigmoid)\n",
    "    return a3"
   ]
  },
  {
   "cell_type": "code",
   "execution_count": 56,
   "id": "24b93afa",
   "metadata": {},
   "outputs": [
    {
     "name": "stdout",
     "output_type": "stream",
     "text": [
      "[0.54735762 0.57932425 0.61063923]\n"
     ]
    }
   ],
   "source": [
    "# test \n",
    "x_test = 0.1 * np.arange(1, 3, 1).reshape(2,)\n",
    "W_test = 0.1 * np.arange(1, 7, 1).reshape(2, 3)\n",
    "b_test = 0.1 * np.arange(1, 4, 1).reshape(3,)\n",
    "A_test = my_dense(x_test, W_test, b_test, sigmoid)\n",
    "print(A_test)"
   ]
  },
  {
   "cell_type": "code",
   "execution_count": 53,
   "id": "033e3766",
   "metadata": {},
   "outputs": [],
   "source": [
    "# vectorized numpy model implementation\n",
    "def my_dense_v(a_in, W, b, g) :\n",
    "    z = np.matmul(a_in, W) + b\n",
    "    A_out = g(z)\n",
    "    return A_out"
   ]
  },
  {
   "cell_type": "code",
   "execution_count": 54,
   "id": "742c9702",
   "metadata": {},
   "outputs": [],
   "source": [
    "def my_sequential_v(X, W1, b1, W2, b2, W3, b3) :\n",
    "    A1 = my_dense_v(X, W1, b1, sigmoid)\n",
    "    A2 = my_dense_v(A1, W2, b2, sigmoid)\n",
    "    A3 = my_dense_v(A2, W3, b3, sigmoid)\n",
    "    return A3"
   ]
  },
  {
   "cell_type": "code",
   "execution_count": 57,
   "id": "753aaf43",
   "metadata": {},
   "outputs": [
    {
     "name": "stdout",
     "output_type": "stream",
     "text": [
      "tf.Tensor(\n",
      "[[0.54735762 0.57932425 0.61063923]\n",
      " [0.57199613 0.61301418 0.65248946]\n",
      " [0.5962827  0.64565631 0.6921095 ]\n",
      " [0.62010643 0.67699586 0.72908792]], shape=(4, 3), dtype=float64)\n"
     ]
    }
   ],
   "source": [
    "# test\n",
    "X_test = 0.1 * np.arange(1, 9, 1).reshape(4, 2)\n",
    "W_test = 0.1 * np.arange(1, 7, 1).reshape(2, 3)\n",
    "B_test = 0.1 * np.arange(1, 4, 1).reshape(1, 3)\n",
    "A_test = my_dense_v(X_test, W_test, B_test, sigmoid)\n",
    "print(A_test)"
   ]
  },
  {
   "cell_type": "code",
   "execution_count": null,
   "id": "6ce84750",
   "metadata": {},
   "outputs": [],
   "source": []
  }
 ],
 "metadata": {
  "kernelspec": {
   "display_name": "Python 3 (ipykernel)",
   "language": "python",
   "name": "python3"
  },
  "language_info": {
   "codemirror_mode": {
    "name": "ipython",
    "version": 3
   },
   "file_extension": ".py",
   "mimetype": "text/x-python",
   "name": "python",
   "nbconvert_exporter": "python",
   "pygments_lexer": "ipython3",
   "version": "3.9.4"
  }
 },
 "nbformat": 4,
 "nbformat_minor": 5
}
